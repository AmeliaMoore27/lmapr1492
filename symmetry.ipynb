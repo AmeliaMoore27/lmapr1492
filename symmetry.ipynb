{
 "cells": [
  {
   "cell_type": "code",
   "execution_count": 6,
   "id": "passive-relief",
   "metadata": {},
   "outputs": [],
   "source": [
    "from pymatgen import Lattice, Structure, Molecule\n",
    "from pymatgen.ext.matproj import MPRester\n",
    "from jupyter_jsmol.pymatgen import quick_view\n",
    "from pymatgen.symmetry.analyzer import SpacegroupAnalyzer"
   ]
  },
  {
   "cell_type": "code",
   "execution_count": 7,
   "id": "civic-conference",
   "metadata": {},
   "outputs": [],
   "source": [
    "# Extract data of the material from the API\n",
    "with MPRester(\"TL5oMzFNQZwCXV0W\") as m:\n",
    "\n",
    "    # Structure for material id\n",
    "    structure = m.get_structure_by_material_id(\"mp-754555\")\n",
    "    \n",
    "# Get the different symmetry operations\n",
    "spa_symmop = SpacegroupAnalyzer(structure).get_symmetry_operations()\n"
   ]
  },
  {
   "cell_type": "code",
   "execution_count": 8,
   "id": "instrumental-trouble",
   "metadata": {},
   "outputs": [
    {
     "data": {
      "application/vnd.jupyter.widget-view+json": {
       "model_id": "1e398ade89ae4adb8a0e693de1f0bbd4",
       "version_major": 2,
       "version_minor": 0
      },
      "text/plain": [
       "JsmolView(layout=Layout(align_self='stretch', height='400px'))"
      ]
     },
     "metadata": {},
     "output_type": "display_data"
    },
    {
     "name": "stdout",
     "output_type": "stream",
     "text": [
      "Rot:\n",
      "[[0. 0. 1.]\n",
      " [1. 0. 0.]\n",
      " [0. 1. 0.]]\n",
      "tau\n",
      "[0. 0. 0.]\n"
     ]
    }
   ],
   "source": [
    "# Symmetry: C3 axis (z,x,y) (equation: Rot.(x,y,z) + tau = (z,x,y))\n",
    "# Atom number: 4\n",
    "\n",
    "view = quick_view(structure)\n",
    "display(view)\n",
    "view.script(\"draw symop 5 {atomno = 4}\") \n",
    "sym_1 = spa_symmop[4]\n",
    "print(sym_1)"
   ]
  },
  {
   "cell_type": "code",
   "execution_count": 9,
   "id": "ecological-macedonia",
   "metadata": {},
   "outputs": [
    {
     "data": {
      "application/vnd.jupyter.widget-view+json": {
       "model_id": "0b71ae04510f4aa9af8a45abec1d3f36",
       "version_major": 2,
       "version_minor": 0
      },
      "text/plain": [
       "JsmolView(layout=Layout(align_self='stretch', height='400px'))"
      ]
     },
     "metadata": {},
     "output_type": "display_data"
    },
    {
     "name": "stdout",
     "output_type": "stream",
     "text": [
      "Rot:\n",
      "[[1. 0. 0.]\n",
      " [0. 0. 1.]\n",
      " [0. 1. 0.]]\n",
      "tau\n",
      "[0. 0. 0.]\n"
     ]
    }
   ],
   "source": [
    "# Symmetry: mirror plane (x,z,y) (equation: Rot.(x,y,z) + tau = (x,z,y))\n",
    "# Atom number: 2\n",
    "\n",
    "view = quick_view(structure)\n",
    "display(view)\n",
    "view.script(\"draw symop 10 {atomno = 2}\") \n",
    "sym_2 = spa_symmop[9]\n",
    "print(sym_2)"
   ]
  },
  {
   "cell_type": "code",
   "execution_count": 10,
   "id": "international-season",
   "metadata": {},
   "outputs": [
    {
     "data": {
      "application/vnd.jupyter.widget-view+json": {
       "model_id": "c675a210a10441e3b3b5b2c97f6d613b",
       "version_major": 2,
       "version_minor": 0
      },
      "text/plain": [
       "JsmolView(layout=Layout(align_self='stretch', height='400px'))"
      ]
     },
     "metadata": {},
     "output_type": "display_data"
    },
    {
     "name": "stdout",
     "output_type": "stream",
     "text": [
      "Rot:\n",
      "[[ 0.  0. -1.]\n",
      " [ 0. -1.  0.]\n",
      " [-1.  0.  0.]]\n",
      "tau\n",
      "[0. 0. 0.]\n"
     ]
    }
   ],
   "source": [
    "# Symmetry: C2 axis (-z,-y,-x) (equation: Rot.(x,y,z) + tau = (-z,-y,-x))\n",
    "# Atom number: 5\n",
    "\n",
    "view = quick_view(structure)\n",
    "display(view)\n",
    "view.script(\"draw symop 7 {atomno = 5}\") \n",
    "sym_3 = spa_symmop[6]\n",
    "print(sym_3)"
   ]
  }
 ],
 "metadata": {
  "kernelspec": {
   "display_name": "Python 3",
   "language": "python",
   "name": "python3"
  },
  "language_info": {
   "codemirror_mode": {
    "name": "ipython",
    "version": 3
   },
   "file_extension": ".py",
   "mimetype": "text/x-python",
   "name": "python",
   "nbconvert_exporter": "python",
   "pygments_lexer": "ipython3",
   "version": "3.6.8"
  }
 },
 "nbformat": 4,
 "nbformat_minor": 5
}
