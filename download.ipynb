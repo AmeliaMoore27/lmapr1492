{
 "cells": [
  {
   "cell_type": "code",
   "execution_count": 3,
   "id": "potential-overall",
   "metadata": {},
   "outputs": [],
   "source": [
    "from pymatgen import Lattice, Structure, Molecule\n",
    "from pymatgen.ext.matproj import MPRester"
   ]
  },
  {
   "cell_type": "code",
   "execution_count": 4,
   "id": "looking-brunswick",
   "metadata": {},
   "outputs": [],
   "source": [
    "with MPRester(\"TL5oMzFNQZwCXV0W\") as m:\n",
    "\n",
    "    # Structure for material id\n",
    "    structure = m.get_structure_by_material_id(\"mp-754555\")\n",
    "\n",
    "    # Dos for material id\n",
    "    dos = m.get_dos_by_material_id(\"mp-1234\")\n",
    "\n",
    "    # Bandstructure for material id\n",
    "    bandstructure = m.get_bandstructure_by_material_id(\"mp-754555\")"
   ]
  },
  {
   "cell_type": "code",
   "execution_count": 5,
   "id": "turned-difference",
   "metadata": {},
   "outputs": [
    {
     "name": "stdout",
     "output_type": "stream",
     "text": [
      "Full Formula (Ho1 Tl1 O2)\n",
      "Reduced Formula: HoTlO2\n",
      "abc   :   6.801861   6.801861   6.801862\n",
      "angles:  29.594171  29.594171  29.594169\n",
      "Sites (4)\n",
      "  #  SP           a         b         c    magmom\n",
      "---  ----  --------  --------  --------  --------\n",
      "  0  Ho    0.5       0.5       0.5              0\n",
      "  1  Tl    0         0         0                0\n",
      "  2  O     0.223453  0.223453  0.223453        -0\n",
      "  3  O     0.776547  0.776547  0.776547        -0\n"
     ]
    }
   ],
   "source": [
    "print(structure)"
   ]
  },
  {
   "cell_type": "code",
   "execution_count": 6,
   "id": "sorted-australia",
   "metadata": {},
   "outputs": [
    {
     "name": "stdout",
     "output_type": "stream",
     "text": [
      "Complete DOS for Full Formula (Lu2 Al4)\n",
      "Reduced Formula: LuAl2\n",
      "abc   :   5.488740   5.488740   5.488740\n",
      "angles:  60.000000  60.000000  60.000000\n",
      "Sites (6)\n",
      "  #  SP        a      b      c\n",
      "---  ----  -----  -----  -----\n",
      "  0  Lu    0.25   0.25   0.25\n",
      "  1  Lu    0      0      0\n",
      "  2  Al    0.625  0.125  0.625\n",
      "  3  Al    0.625  0.625  0.125\n",
      "  4  Al    0.125  0.625  0.625\n",
      "  5  Al    0.625  0.625  0.625\n"
     ]
    }
   ],
   "source": [
    "print(dos)"
   ]
  },
  {
   "cell_type": "code",
   "execution_count": 7,
   "id": "infrared-nothing",
   "metadata": {},
   "outputs": [
    {
     "name": "stdout",
     "output_type": "stream",
     "text": [
      "<pymatgen.electronic_structure.bandstructure.BandStructureSymmLine object at 0x7f5627fdd630>\n"
     ]
    }
   ],
   "source": [
    "print(bandstructure)"
   ]
  }
 ],
 "metadata": {
  "kernelspec": {
   "display_name": "Python 3",
   "language": "python",
   "name": "python3"
  },
  "language_info": {
   "codemirror_mode": {
    "name": "ipython",
    "version": 3
   },
   "file_extension": ".py",
   "mimetype": "text/x-python",
   "name": "python",
   "nbconvert_exporter": "python",
   "pygments_lexer": "ipython3",
   "version": "3.6.8"
  }
 },
 "nbformat": 4,
 "nbformat_minor": 5
}
