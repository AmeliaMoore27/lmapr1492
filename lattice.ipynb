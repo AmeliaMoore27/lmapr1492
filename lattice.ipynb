{
 "cells": [
  {
   "cell_type": "code",
   "execution_count": 1,
   "id": "military-programmer",
   "metadata": {},
   "outputs": [],
   "source": [
    "import numpy as np\n",
    "from pymatgen import Lattice, Structure, Molecule\n",
    "from pymatgen.ext.matproj import MPRester\n",
    "from pymatgen.symmetry.analyzer import SpacegroupAnalyzer\n",
    "from pymatgen.electronic_structure.plotter import BSPlotter\n",
    "from pymatgen.analysis.diffraction.xrd import XRDCalculator\n",
    "from jupyter_jsmol.pymatgen import quick_view"
   ]
  },
  {
   "cell_type": "code",
   "execution_count": 2,
   "id": "former-flesh",
   "metadata": {},
   "outputs": [],
   "source": [
    "# Extraire les données liées au matériau à partir de l'API\n",
    "\n",
    "with MPRester(\"TL5oMzFNQZwCXV0W\") as m:\n",
    "\n",
    "    # Structure pour le material id\n",
    "    structure = m.get_structure_by_material_id(\"mp-754555\")\n",
    "\n",
    "# On crée un objet de la classe SpacegroupAnalyzer\n",
    "analyzer = SpacegroupAnalyzer(structure)"
   ]
  },
  {
   "cell_type": "code",
   "execution_count": 5,
   "id": "vital-framework",
   "metadata": {},
   "outputs": [
    {
     "name": "stdout",
     "output_type": "stream",
     "text": [
      "Les vecteurs de base du réseau direct sont A, B, C :\n"
     ]
    },
    {
     "data": {
      "text/plain": [
       "Lattice\n",
       "    abc : 6.801861308785485 6.801861308785485 6.801861521553126\n",
       " angles : 29.594171113425155 29.594171113425155 29.594169264982966\n",
       " volume : 67.94330023996899\n",
       "      A : 6.576287 -1.737172 0.0\n",
       "      B : 6.576287 1.737172 0.0\n",
       "      C : 6.117401 0.0 2.973672"
      ]
     },
     "execution_count": 5,
     "metadata": {},
     "output_type": "execute_result"
    }
   ],
   "source": [
    "# Déterminer les vecteurs de base du réseau direct du matériau\n",
    " \n",
    "print(\"Les vecteurs de base du réseau direct sont A, B, C :\")\n",
    "structure.lattice"
   ]
  },
  {
   "cell_type": "code",
   "execution_count": 10,
   "id": "careful-allah",
   "metadata": {},
   "outputs": [
    {
     "name": "stdout",
     "output_type": "stream",
     "text": [
      "Les vecteurs de base du réseau réciproque sont A, B, C :\n"
     ]
    },
    {
     "data": {
      "text/plain": [
       "Lattice\n",
       "    abc : 2.112938434579004 2.112938434579004 2.1129382484616954\n",
       " angles : 117.71737459647659 117.71737459647659 117.7173807910441\n",
       " volume : 3.650841401084579\n",
       "      A : 0.4777152599315987 -1.8084522739197924 -0.9827498825764314\n",
       "      B : 0.4777152599315987 1.8084522739197924 -0.9827498825764314\n",
       "      C : 0.0 0.0 2.1129382484616954"
      ]
     },
     "execution_count": 10,
     "metadata": {},
     "output_type": "execute_result"
    }
   ],
   "source": [
    "# Déterminer les vecteurs de base du réseau réciproque du matériau\n",
    "\n",
    "print(\"Les vecteurs de base du réseau réciproque sont A, B, C :\")\n",
    "structure.lattice.reciprocal_lattice"
   ]
  },
  {
   "cell_type": "code",
   "execution_count": 11,
   "id": "universal-nepal",
   "metadata": {},
   "outputs": [
    {
     "name": "stdout",
     "output_type": "stream",
     "text": [
      "Le type de maille du matériau est: rhombohedral.\n"
     ]
    }
   ],
   "source": [
    "# Déterminer le type de maille du matériau\n",
    "\n",
    "maille = analyzer.get_lattice_type()\n",
    "print(\"Le type de maille du matériau est: {}.\".format(maille))"
   ]
  },
  {
   "cell_type": "code",
   "execution_count": 12,
   "id": "natural-secret",
   "metadata": {},
   "outputs": [
    {
     "name": "stdout",
     "output_type": "stream",
     "text": [
      "Le système cristallin du matériau est: trigonal.\n"
     ]
    }
   ],
   "source": [
    "# Déterminer le système cristallin du matériau\n",
    "\n",
    "syst_crist = analyzer.get_crystal_system()\n",
    "print(\"Le système cristallin du matériau est: {}.\". format(syst_crist))"
   ]
  },
  {
   "cell_type": "code",
   "execution_count": 13,
   "id": "strong-bridal",
   "metadata": {},
   "outputs": [
    {
     "name": "stdout",
     "output_type": "stream",
     "text": [
      "Le groupe ponctuel du matériau est: -3m.\n"
     ]
    }
   ],
   "source": [
    "# Déterminer le groupe ponctuel du matériau\n",
    "\n",
    "groupe_ponct = analyzer.get_point_group_symbol()\n",
    "print(\"Le groupe ponctuel du matériau est: {}.\". format(groupe_ponct))"
   ]
  }
 ],
 "metadata": {
  "kernelspec": {
   "display_name": "Python 3",
   "language": "python",
   "name": "python3"
  },
  "language_info": {
   "codemirror_mode": {
    "name": "ipython",
    "version": 3
   },
   "file_extension": ".py",
   "mimetype": "text/x-python",
   "name": "python",
   "nbconvert_exporter": "python",
   "pygments_lexer": "ipython3",
   "version": "3.6.8"
  }
 },
 "nbformat": 4,
 "nbformat_minor": 5
}
